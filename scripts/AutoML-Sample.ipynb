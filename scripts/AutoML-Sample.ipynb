{
 "cells": [
  {
   "cell_type": "code",
   "execution_count": 1,
   "metadata": {},
   "outputs": [
    {
     "name": "stdout",
     "output_type": "stream",
     "text": [
      "Checking whether there is an H2O instance running at http://localhost:54321..... not found.\n",
      "Attempting to start a local H2O server...\n",
      "  Java Version: java version \"11.0.1\" 2018-10-16 LTS; Java(TM) SE Runtime Environment 18.9 (build 11.0.1+13-LTS); Java HotSpot(TM) 64-Bit Server VM 18.9 (build 11.0.1+13-LTS, mixed mode)\n",
      "  Starting server from /Users/carmen/anaconda3/lib/python3.7/site-packages/h2o/backend/bin/h2o.jar\n",
      "  Ice root: /var/folders/mf/strl7mm53_dcwkr8qcwz_9fm0000gn/T/tmp5eiez9o1\n",
      "  JVM stdout: /var/folders/mf/strl7mm53_dcwkr8qcwz_9fm0000gn/T/tmp5eiez9o1/h2o_carmen_started_from_python.out\n",
      "  JVM stderr: /var/folders/mf/strl7mm53_dcwkr8qcwz_9fm0000gn/T/tmp5eiez9o1/h2o_carmen_started_from_python.err\n",
      "  Server is running at http://127.0.0.1:54321\n",
      "Connecting to H2O server at http://127.0.0.1:54321... successful.\n"
     ]
    },
    {
     "data": {
      "text/html": [
       "<div style=\"overflow:auto\"><table style=\"width:50%\"><tr><td>H2O cluster uptime:</td>\n",
       "<td>01 secs</td></tr>\n",
       "<tr><td>H2O cluster timezone:</td>\n",
       "<td>America/Los_Angeles</td></tr>\n",
       "<tr><td>H2O data parsing timezone:</td>\n",
       "<td>UTC</td></tr>\n",
       "<tr><td>H2O cluster version:</td>\n",
       "<td>3.22.1.3</td></tr>\n",
       "<tr><td>H2O cluster version age:</td>\n",
       "<td>15 days </td></tr>\n",
       "<tr><td>H2O cluster name:</td>\n",
       "<td>H2O_from_python_carmen_cnz3yo</td></tr>\n",
       "<tr><td>H2O cluster total nodes:</td>\n",
       "<td>1</td></tr>\n",
       "<tr><td>H2O cluster free memory:</td>\n",
       "<td>4 Gb</td></tr>\n",
       "<tr><td>H2O cluster total cores:</td>\n",
       "<td>8</td></tr>\n",
       "<tr><td>H2O cluster allowed cores:</td>\n",
       "<td>8</td></tr>\n",
       "<tr><td>H2O cluster status:</td>\n",
       "<td>accepting new members, healthy</td></tr>\n",
       "<tr><td>H2O connection url:</td>\n",
       "<td>http://127.0.0.1:54321</td></tr>\n",
       "<tr><td>H2O connection proxy:</td>\n",
       "<td>None</td></tr>\n",
       "<tr><td>H2O internal security:</td>\n",
       "<td>False</td></tr>\n",
       "<tr><td>H2O API Extensions:</td>\n",
       "<td>XGBoost, Algos, AutoML, Core V3, Core V4</td></tr>\n",
       "<tr><td>Python version:</td>\n",
       "<td>3.7.1 final</td></tr></table></div>"
      ],
      "text/plain": [
       "--------------------------  ----------------------------------------\n",
       "H2O cluster uptime:         01 secs\n",
       "H2O cluster timezone:       America/Los_Angeles\n",
       "H2O data parsing timezone:  UTC\n",
       "H2O cluster version:        3.22.1.3\n",
       "H2O cluster version age:    15 days\n",
       "H2O cluster name:           H2O_from_python_carmen_cnz3yo\n",
       "H2O cluster total nodes:    1\n",
       "H2O cluster free memory:    4 Gb\n",
       "H2O cluster total cores:    8\n",
       "H2O cluster allowed cores:  8\n",
       "H2O cluster status:         accepting new members, healthy\n",
       "H2O connection url:         http://127.0.0.1:54321\n",
       "H2O connection proxy:\n",
       "H2O internal security:      False\n",
       "H2O API Extensions:         XGBoost, Algos, AutoML, Core V3, Core V4\n",
       "Python version:             3.7.1 final\n",
       "--------------------------  ----------------------------------------"
      ]
     },
     "metadata": {},
     "output_type": "display_data"
    }
   ],
   "source": [
    "import h2o\n",
    "h2o.init()"
   ]
  },
  {
   "cell_type": "code",
   "execution_count": 2,
   "metadata": {},
   "outputs": [
    {
     "name": "stdout",
     "output_type": "stream",
     "text": [
      "Import approved and rejected loan requests...\n",
      "Parse progress: |█████████████████████████████████████████████████████████| 100%\n"
     ]
    }
   ],
   "source": [
    "print(\"Import approved and rejected loan requests...\")\n",
    "loans = h2o.import_file(path = \"data/loan.csv\")"
   ]
  },
  {
   "cell_type": "code",
   "execution_count": 3,
   "metadata": {},
   "outputs": [],
   "source": [
    "# Ensure objetive variable (bad_load) is categorical / factor\n",
    "loans[\"bad_loan\"] = loans[\"bad_loan\"].asfactor()"
   ]
  },
  {
   "cell_type": "code",
   "execution_count": 4,
   "metadata": {},
   "outputs": [],
   "source": [
    "# Create training and test partitions\n",
    "rand  = loans.runif(seed = 1234567)\n",
    "train = loans[rand <= 0.8]\n",
    "test = loans[rand > 0.8]"
   ]
  },
  {
   "cell_type": "code",
   "execution_count": 5,
   "metadata": {},
   "outputs": [],
   "source": [
    "# myY = \"bad_loan\" objetive \n",
    "# myX = Dataset  predictor variables names\n",
    "\n",
    "myY = \"bad_loan\"\n",
    "myX = [\"loan_amnt\", \"longest_credit_length\", \"revol_util\", \"emp_length\",\n",
    "       \"home_ownership\", \"annual_inc\", \"purpose\", \"addr_state\", \"dti\",\n",
    "       \"delinq_2yrs\", \"total_acc\", \"verification_status\", \"term\"]"
   ]
  },
  {
   "cell_type": "code",
   "execution_count": 6,
   "metadata": {},
   "outputs": [],
   "source": [
    "from h2o.automl import H2OAutoML"
   ]
  },
  {
   "cell_type": "code",
   "execution_count": 7,
   "metadata": {},
   "outputs": [
    {
     "name": "stdout",
     "output_type": "stream",
     "text": [
      "AutoML progress: |████████████████████████████████████████████████████████| 100%\n"
     ]
    }
   ],
   "source": [
    "# Run AutoML for 20 base models (limited to 1 hour max runtime by default)\n",
    "aml = H2OAutoML(max_models=20,seed=1)\n",
    "aml.train(x=myX, y=myY, training_frame=train)"
   ]
  },
  {
   "cell_type": "code",
   "execution_count": 8,
   "metadata": {},
   "outputs": [
    {
     "data": {
      "text/html": [
       "<table>\n",
       "<thead>\n",
       "<tr><th>model_id                                           </th><th style=\"text-align: right;\">     auc</th><th style=\"text-align: right;\">  logloss</th><th style=\"text-align: right;\">  mean_per_class_error</th><th style=\"text-align: right;\">    rmse</th><th style=\"text-align: right;\">     mse</th></tr>\n",
       "</thead>\n",
       "<tbody>\n",
       "<tr><td>StackedEnsemble_AllModels_AutoML_20190209_223818   </td><td style=\"text-align: right;\">0.684612</td><td style=\"text-align: right;\"> 0.444771</td><td style=\"text-align: right;\">              0.366332</td><td style=\"text-align: right;\">0.373986</td><td style=\"text-align: right;\">0.139866</td></tr>\n",
       "<tr><td>StackedEnsemble_BestOfFamily_AutoML_20190209_223818</td><td style=\"text-align: right;\">0.683608</td><td style=\"text-align: right;\"> 0.44507 </td><td style=\"text-align: right;\">              0.367124</td><td style=\"text-align: right;\">0.374091</td><td style=\"text-align: right;\">0.139944</td></tr>\n",
       "<tr><td>GBM_grid_1_AutoML_20190209_223818_model_3          </td><td style=\"text-align: right;\">0.681532</td><td style=\"text-align: right;\"> 0.450006</td><td style=\"text-align: right;\">              0.369389</td><td style=\"text-align: right;\">0.376051</td><td style=\"text-align: right;\">0.141414</td></tr>\n",
       "<tr><td>GBM_1_AutoML_20190209_223818                       </td><td style=\"text-align: right;\">0.681394</td><td style=\"text-align: right;\"> 0.444588</td><td style=\"text-align: right;\">              0.36791 </td><td style=\"text-align: right;\">0.374072</td><td style=\"text-align: right;\">0.13993 </td></tr>\n",
       "<tr><td>XGBoost_1_AutoML_20190209_223818                   </td><td style=\"text-align: right;\">0.681251</td><td style=\"text-align: right;\"> 0.444438</td><td style=\"text-align: right;\">              0.368182</td><td style=\"text-align: right;\">0.373865</td><td style=\"text-align: right;\">0.139775</td></tr>\n",
       "<tr><td>XGBoost_2_AutoML_20190209_223818                   </td><td style=\"text-align: right;\">0.67987 </td><td style=\"text-align: right;\"> 0.445039</td><td style=\"text-align: right;\">              0.369497</td><td style=\"text-align: right;\">0.374253</td><td style=\"text-align: right;\">0.140065</td></tr>\n",
       "<tr><td>GBM_2_AutoML_20190209_223818                       </td><td style=\"text-align: right;\">0.679487</td><td style=\"text-align: right;\"> 0.445364</td><td style=\"text-align: right;\">              0.370572</td><td style=\"text-align: right;\">0.374452</td><td style=\"text-align: right;\">0.140214</td></tr>\n",
       "<tr><td>GBM_3_AutoML_20190209_223818                       </td><td style=\"text-align: right;\">0.676891</td><td style=\"text-align: right;\"> 0.44648 </td><td style=\"text-align: right;\">              0.370714</td><td style=\"text-align: right;\">0.37496 </td><td style=\"text-align: right;\">0.140595</td></tr>\n",
       "<tr><td>XGBoost_3_AutoML_20190209_223818                   </td><td style=\"text-align: right;\">0.674515</td><td style=\"text-align: right;\"> 0.446895</td><td style=\"text-align: right;\">              0.373484</td><td style=\"text-align: right;\">0.375076</td><td style=\"text-align: right;\">0.140682</td></tr>\n",
       "<tr><td>GLM_grid_1_AutoML_20190209_223818_model_1          </td><td style=\"text-align: right;\">0.673785</td><td style=\"text-align: right;\"> 0.447757</td><td style=\"text-align: right;\">              0.373899</td><td style=\"text-align: right;\">0.375017</td><td style=\"text-align: right;\">0.140637</td></tr>\n",
       "<tr><td>GBM_5_AutoML_20190209_223818                       </td><td style=\"text-align: right;\">0.673004</td><td style=\"text-align: right;\"> 0.448008</td><td style=\"text-align: right;\">              0.374013</td><td style=\"text-align: right;\">0.375548</td><td style=\"text-align: right;\">0.141036</td></tr>\n",
       "<tr><td>DeepLearning_1_AutoML_20190209_223818              </td><td style=\"text-align: right;\">0.672212</td><td style=\"text-align: right;\"> 0.448187</td><td style=\"text-align: right;\">              0.373426</td><td style=\"text-align: right;\">0.375396</td><td style=\"text-align: right;\">0.140922</td></tr>\n",
       "<tr><td>GBM_4_AutoML_20190209_223818                       </td><td style=\"text-align: right;\">0.671144</td><td style=\"text-align: right;\"> 0.449398</td><td style=\"text-align: right;\">              0.374928</td><td style=\"text-align: right;\">0.376258</td><td style=\"text-align: right;\">0.14157 </td></tr>\n",
       "<tr><td>XRT_1_AutoML_20190209_223818                       </td><td style=\"text-align: right;\">0.666203</td><td style=\"text-align: right;\"> 0.449906</td><td style=\"text-align: right;\">              0.380821</td><td style=\"text-align: right;\">0.376193</td><td style=\"text-align: right;\">0.141521</td></tr>\n",
       "<tr><td>DRF_1_AutoML_20190209_223818                       </td><td style=\"text-align: right;\">0.66082 </td><td style=\"text-align: right;\"> 0.453935</td><td style=\"text-align: right;\">              0.382967</td><td style=\"text-align: right;\">0.377527</td><td style=\"text-align: right;\">0.142527</td></tr>\n",
       "<tr><td>DeepLearning_grid_1_AutoML_20190209_223818_model_2 </td><td style=\"text-align: right;\">0.655781</td><td style=\"text-align: right;\"> 0.455123</td><td style=\"text-align: right;\">              0.384154</td><td style=\"text-align: right;\">0.378223</td><td style=\"text-align: right;\">0.143052</td></tr>\n",
       "<tr><td>XGBoost_grid_1_AutoML_20190209_223818_model_2      </td><td style=\"text-align: right;\">0.651812</td><td style=\"text-align: right;\"> 0.464551</td><td style=\"text-align: right;\">              0.391182</td><td style=\"text-align: right;\">0.380681</td><td style=\"text-align: right;\">0.144918</td></tr>\n",
       "<tr><td>GBM_grid_1_AutoML_20190209_223818_model_2          </td><td style=\"text-align: right;\">0.649697</td><td style=\"text-align: right;\"> 0.475151</td><td style=\"text-align: right;\">              0.390885</td><td style=\"text-align: right;\">0.386357</td><td style=\"text-align: right;\">0.149272</td></tr>\n",
       "<tr><td>DeepLearning_grid_1_AutoML_20190209_223818_model_1 </td><td style=\"text-align: right;\">0.649134</td><td style=\"text-align: right;\"> 0.460254</td><td style=\"text-align: right;\">              0.393543</td><td style=\"text-align: right;\">0.37863 </td><td style=\"text-align: right;\">0.143361</td></tr>\n",
       "<tr><td>GBM_grid_1_AutoML_20190209_223818_model_1          </td><td style=\"text-align: right;\">0.606783</td><td style=\"text-align: right;\"> 0.546192</td><td style=\"text-align: right;\">              0.425666</td><td style=\"text-align: right;\">0.406516</td><td style=\"text-align: right;\">0.165255</td></tr>\n",
       "<tr><td>XGBoost_grid_1_AutoML_20190209_223818_model_1      </td><td style=\"text-align: right;\">0.588746</td><td style=\"text-align: right;\"> 0.522771</td><td style=\"text-align: right;\">              0.409486</td><td style=\"text-align: right;\">0.417381</td><td style=\"text-align: right;\">0.174207</td></tr>\n",
       "</tbody>\n",
       "</table>"
      ]
     },
     "metadata": {},
     "output_type": "display_data"
    },
    {
     "data": {
      "text/plain": []
     },
     "execution_count": 8,
     "metadata": {},
     "output_type": "execute_result"
    }
   ],
   "source": [
    "# View the AutoML Leaderboard\n",
    "lb = aml.leaderboard\n",
    "lb.head(rows=lb.nrows)  # Print all rows instead of default (10 rows)"
   ]
  }
 ],
 "metadata": {
  "kernelspec": {
   "display_name": "Python 3",
   "language": "python",
   "name": "python3"
  },
  "language_info": {
   "codemirror_mode": {
    "name": "ipython",
    "version": 3
   },
   "file_extension": ".py",
   "mimetype": "text/x-python",
   "name": "python",
   "nbconvert_exporter": "python",
   "pygments_lexer": "ipython3",
   "version": "3.7.1"
  }
 },
 "nbformat": 4,
 "nbformat_minor": 2
}
