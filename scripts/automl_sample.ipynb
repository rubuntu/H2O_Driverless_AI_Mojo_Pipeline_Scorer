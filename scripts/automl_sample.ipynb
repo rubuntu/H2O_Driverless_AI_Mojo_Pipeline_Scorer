{
 "cells": [
  {
   "cell_type": "code",
   "execution_count": 1,
   "metadata": {},
   "outputs": [
    {
     "name": "stdout",
     "output_type": "stream",
     "text": [
      "Checking whether there is an H2O instance running at http://localhost:54321..... not found.\n",
      "Attempting to start a local H2O server...\n",
      "  Java Version: java version \"11.0.1\" 2018-10-16 LTS; Java(TM) SE Runtime Environment 18.9 (build 11.0.1+13-LTS); Java HotSpot(TM) 64-Bit Server VM 18.9 (build 11.0.1+13-LTS, mixed mode)\n",
      "  Starting server from /Users/carmen/anaconda3/lib/python3.7/site-packages/h2o/backend/bin/h2o.jar\n",
      "  Ice root: /var/folders/mf/strl7mm53_dcwkr8qcwz_9fm0000gn/T/tmpzrlhpe02\n",
      "  JVM stdout: /var/folders/mf/strl7mm53_dcwkr8qcwz_9fm0000gn/T/tmpzrlhpe02/h2o_carmen_started_from_python.out\n",
      "  JVM stderr: /var/folders/mf/strl7mm53_dcwkr8qcwz_9fm0000gn/T/tmpzrlhpe02/h2o_carmen_started_from_python.err\n",
      "  Server is running at http://127.0.0.1:54321\n",
      "Connecting to H2O server at http://127.0.0.1:54321... successful.\n"
     ]
    },
    {
     "data": {
      "text/html": [
       "<div style=\"overflow:auto\"><table style=\"width:50%\"><tr><td>H2O cluster uptime:</td>\n",
       "<td>01 secs</td></tr>\n",
       "<tr><td>H2O cluster timezone:</td>\n",
       "<td>America/Los_Angeles</td></tr>\n",
       "<tr><td>H2O data parsing timezone:</td>\n",
       "<td>UTC</td></tr>\n",
       "<tr><td>H2O cluster version:</td>\n",
       "<td>3.22.1.3</td></tr>\n",
       "<tr><td>H2O cluster version age:</td>\n",
       "<td>15 days </td></tr>\n",
       "<tr><td>H2O cluster name:</td>\n",
       "<td>H2O_from_python_carmen_nloyns</td></tr>\n",
       "<tr><td>H2O cluster total nodes:</td>\n",
       "<td>1</td></tr>\n",
       "<tr><td>H2O cluster free memory:</td>\n",
       "<td>4 Gb</td></tr>\n",
       "<tr><td>H2O cluster total cores:</td>\n",
       "<td>8</td></tr>\n",
       "<tr><td>H2O cluster allowed cores:</td>\n",
       "<td>8</td></tr>\n",
       "<tr><td>H2O cluster status:</td>\n",
       "<td>accepting new members, healthy</td></tr>\n",
       "<tr><td>H2O connection url:</td>\n",
       "<td>http://127.0.0.1:54321</td></tr>\n",
       "<tr><td>H2O connection proxy:</td>\n",
       "<td>None</td></tr>\n",
       "<tr><td>H2O internal security:</td>\n",
       "<td>False</td></tr>\n",
       "<tr><td>H2O API Extensions:</td>\n",
       "<td>XGBoost, Algos, AutoML, Core V3, Core V4</td></tr>\n",
       "<tr><td>Python version:</td>\n",
       "<td>3.7.1 final</td></tr></table></div>"
      ],
      "text/plain": [
       "--------------------------  ----------------------------------------\n",
       "H2O cluster uptime:         01 secs\n",
       "H2O cluster timezone:       America/Los_Angeles\n",
       "H2O data parsing timezone:  UTC\n",
       "H2O cluster version:        3.22.1.3\n",
       "H2O cluster version age:    15 days\n",
       "H2O cluster name:           H2O_from_python_carmen_nloyns\n",
       "H2O cluster total nodes:    1\n",
       "H2O cluster free memory:    4 Gb\n",
       "H2O cluster total cores:    8\n",
       "H2O cluster allowed cores:  8\n",
       "H2O cluster status:         accepting new members, healthy\n",
       "H2O connection url:         http://127.0.0.1:54321\n",
       "H2O connection proxy:\n",
       "H2O internal security:      False\n",
       "H2O API Extensions:         XGBoost, Algos, AutoML, Core V3, Core V4\n",
       "Python version:             3.7.1 final\n",
       "--------------------------  ----------------------------------------"
      ]
     },
     "metadata": {},
     "output_type": "display_data"
    }
   ],
   "source": [
    "import h2o\n",
    "h2o.init()"
   ]
  },
  {
   "cell_type": "code",
   "execution_count": 2,
   "metadata": {},
   "outputs": [
    {
     "name": "stdout",
     "output_type": "stream",
     "text": [
      "Import approved and rejected loan requests...\n",
      "Parse progress: |█████████████████████████████████████████████████████████| 100%\n",
      "Parse progress: |█████████████████████████████████████████████████████████| 100%\n"
     ]
    }
   ],
   "source": [
    "print(\"Import approved and rejected loan requests...\")\n",
    "train = h2o.import_file(path = \"data/train.csv\")\n",
    "test = h2o.import_file(path = \"data/test.csv\")"
   ]
  },
  {
   "cell_type": "code",
   "execution_count": 3,
   "metadata": {},
   "outputs": [],
   "source": [
    "# Ensure objetive variable (bad_load) is categorical / factor\n",
    "train[\"bad_loan\"] = train[\"bad_loan\"].asfactor()\n",
    "test[\"bad_loan\"] = test[\"bad_loan\"].asfactor()"
   ]
  },
  {
   "cell_type": "code",
   "execution_count": 4,
   "metadata": {},
   "outputs": [],
   "source": [
    "# Bad Loan Model\n",
    "\n",
    "# myY = \"bad_loan\" objetive \n",
    "# myX = Dataset  predictor variables names\n",
    "\n",
    "myY = \"bad_loan\"\n",
    "myX = [\"loan_amnt\", \"longest_credit_length\", \"revol_util\", \"emp_length\",\n",
    "       \"home_ownership\", \"annual_inc\", \"purpose\", \"addr_state\", \"dti\",\n",
    "       \"delinq_2yrs\", \"total_acc\", \"verification_status\", \"term\"]"
   ]
  },
  {
   "cell_type": "code",
   "execution_count": 5,
   "metadata": {},
   "outputs": [],
   "source": [
    "from h2o.automl import H2OAutoML"
   ]
  },
  {
   "cell_type": "code",
   "execution_count": 6,
   "metadata": {},
   "outputs": [
    {
     "name": "stdout",
     "output_type": "stream",
     "text": [
      "AutoML progress: |████████████████████████████████████████████████████████| 100%\n"
     ]
    }
   ],
   "source": [
    "# Run AutoML for 5 base models (limited to 1 hour max runtime by default)\n",
    "bad_loan_model = H2OAutoML(max_models=5,seed=1, nfolds=0)\n",
    "bad_loan_model.train(x=myX, y=myY, training_frame=train, validation_frame=test,leaderboard_frame=test)"
   ]
  },
  {
   "cell_type": "code",
   "execution_count": 7,
   "metadata": {},
   "outputs": [
    {
     "data": {
      "text/html": [
       "<table>\n",
       "<thead>\n",
       "<tr><th>model_id                                 </th><th style=\"text-align: right;\">     auc</th><th style=\"text-align: right;\">  logloss</th><th style=\"text-align: right;\">  mean_per_class_error</th><th style=\"text-align: right;\">    rmse</th><th style=\"text-align: right;\">     mse</th></tr>\n",
       "</thead>\n",
       "<tbody>\n",
       "<tr><td>XGBoost_1_AutoML_20190210_133722         </td><td style=\"text-align: right;\">0.681544</td><td style=\"text-align: right;\"> 0.444621</td><td style=\"text-align: right;\">              0.36952 </td><td style=\"text-align: right;\">0.373908</td><td style=\"text-align: right;\">0.139807</td></tr>\n",
       "<tr><td>XGBoost_2_AutoML_20190210_133722         </td><td style=\"text-align: right;\">0.680823</td><td style=\"text-align: right;\"> 0.444955</td><td style=\"text-align: right;\">              0.370734</td><td style=\"text-align: right;\">0.374215</td><td style=\"text-align: right;\">0.140037</td></tr>\n",
       "<tr><td>GLM_grid_1_AutoML_20190210_133722_model_1</td><td style=\"text-align: right;\">0.674697</td><td style=\"text-align: right;\"> 0.447057</td><td style=\"text-align: right;\">              0.372094</td><td style=\"text-align: right;\">0.374849</td><td style=\"text-align: right;\">0.140512</td></tr>\n",
       "<tr><td>XRT_1_AutoML_20190210_133722             </td><td style=\"text-align: right;\">0.669451</td><td style=\"text-align: right;\"> 0.449403</td><td style=\"text-align: right;\">              0.376828</td><td style=\"text-align: right;\">0.375889</td><td style=\"text-align: right;\">0.141293</td></tr>\n",
       "<tr><td>DRF_1_AutoML_20190210_133722             </td><td style=\"text-align: right;\">0.661431</td><td style=\"text-align: right;\"> 0.453165</td><td style=\"text-align: right;\">              0.380155</td><td style=\"text-align: right;\">0.377059</td><td style=\"text-align: right;\">0.142173</td></tr>\n",
       "</tbody>\n",
       "</table>"
      ]
     },
     "metadata": {},
     "output_type": "display_data"
    },
    {
     "data": {
      "text/plain": []
     },
     "execution_count": 7,
     "metadata": {},
     "output_type": "execute_result"
    }
   ],
   "source": [
    "# View the AutoML Leaderboard\n",
    "lb = bad_loan_model.leaderboard\n",
    "lb.head(rows=lb.nrows)  # Print all rows instead of default (10 rows)"
   ]
  },
  {
   "cell_type": "code",
   "execution_count": 8,
   "metadata": {},
   "outputs": [],
   "source": [
    "# Download generated MOJO for model\n",
    "import os\n",
    "if not os.path.exists(\"tmp\"):\n",
    "    os.makedirs(\"tmp\")\n",
    "bad_loan_model_file=bad_loan_model.download_mojo( path=\"tmp\", get_genmodel_jar=True )\n"
   ]
  },
  {
   "cell_type": "code",
   "execution_count": 9,
   "metadata": {},
   "outputs": [
    {
     "data": {
      "text/plain": [
       "'../src/main/webapp/BadLoanModel.zip'"
      ]
     },
     "execution_count": 9,
     "metadata": {},
     "output_type": "execute_result"
    }
   ],
   "source": [
    "# Deploy the model\n",
    "import shutil\n",
    "shutil.copy('tmp/h2o-genmodel.jar', '../src/main/webapp/WEB-INF/lib/')\n",
    "shutil.copy(bad_loan_model_file, '../src/main/webapp/BadLoanModel.zip')"
   ]
  },
  {
   "cell_type": "code",
   "execution_count": 10,
   "metadata": {},
   "outputs": [],
   "source": [
    "# Interest Rate Model\n",
    "\n",
    "# myY = \"int_rate\" objetive \n",
    "# myX = Dataset  predictor variables names\n",
    "\n",
    "myY = \"int_rate\"\n",
    "myX = [\"loan_amnt\", \"longest_credit_length\", \"revol_util\", \"emp_length\",\n",
    "       \"home_ownership\", \"annual_inc\", \"purpose\", \"addr_state\", \"dti\",\n",
    "       \"delinq_2yrs\", \"total_acc\", \"verification_status\", \"term\"]"
   ]
  },
  {
   "cell_type": "code",
   "execution_count": 11,
   "metadata": {},
   "outputs": [
    {
     "name": "stdout",
     "output_type": "stream",
     "text": [
      "gbm Model Build progress: |███████████████████████████████████████████████| 100%\n",
      "Model Details\n",
      "=============\n",
      "H2OGradientBoostingEstimator :  Gradient Boosting Machine\n",
      "Model Key:  InterestRateModel\n",
      "\n",
      "\n",
      "ModelMetricsRegression: gbm\n",
      "** Reported on train data. **\n",
      "\n",
      "MSE: 10.86260198745982\n",
      "RMSE: 3.2958461716924563\n",
      "MAE: 2.636052939136392\n",
      "RMSLE: 0.23805564679045385\n",
      "Mean Residual Deviance: 10.86260198745982\n",
      "\n",
      "ModelMetricsRegression: gbm\n",
      "** Reported on validation data. **\n",
      "\n",
      "MSE: 11.112677596397843\n",
      "RMSE: 3.333568297845095\n",
      "MAE: 2.6649262049291167\n",
      "RMSLE: 0.24004987688404397\n",
      "Mean Residual Deviance: 11.112677596397843\n",
      "Scoring History: \n"
     ]
    },
    {
     "data": {
      "text/html": [
       "<div style=\"overflow:auto\"><table style=\"width:50%\"><tr><td><b></b></td>\n",
       "<td><b>timestamp</b></td>\n",
       "<td><b>duration</b></td>\n",
       "<td><b>number_of_trees</b></td>\n",
       "<td><b>training_rmse</b></td>\n",
       "<td><b>training_mae</b></td>\n",
       "<td><b>training_deviance</b></td>\n",
       "<td><b>validation_rmse</b></td>\n",
       "<td><b>validation_mae</b></td>\n",
       "<td><b>validation_deviance</b></td></tr>\n",
       "<tr><td></td>\n",
       "<td>2019-02-10 13:38:34</td>\n",
       "<td> 0.002 sec</td>\n",
       "<td>0.0</td>\n",
       "<td>4.3924826</td>\n",
       "<td>3.5256478</td>\n",
       "<td>19.2939031</td>\n",
       "<td>4.3896994</td>\n",
       "<td>3.5205772</td>\n",
       "<td>19.2694612</td></tr>\n",
       "<tr><td></td>\n",
       "<td>2019-02-10 13:38:34</td>\n",
       "<td> 0.210 sec</td>\n",
       "<td>1.0</td>\n",
       "<td>4.3164406</td>\n",
       "<td>3.4659350</td>\n",
       "<td>18.6316591</td>\n",
       "<td>4.3146846</td>\n",
       "<td>3.4614585</td>\n",
       "<td>18.6165035</td></tr>\n",
       "<tr><td></td>\n",
       "<td>2019-02-10 13:38:34</td>\n",
       "<td> 0.349 sec</td>\n",
       "<td>2.0</td>\n",
       "<td>4.2465963</td>\n",
       "<td>3.4111965</td>\n",
       "<td>18.0335805</td>\n",
       "<td>4.2458401</td>\n",
       "<td>3.4072598</td>\n",
       "<td>18.0271582</td></tr>\n",
       "<tr><td></td>\n",
       "<td>2019-02-10 13:38:34</td>\n",
       "<td> 0.465 sec</td>\n",
       "<td>3.0</td>\n",
       "<td>4.1823269</td>\n",
       "<td>3.3602462</td>\n",
       "<td>17.4918585</td>\n",
       "<td>4.1827113</td>\n",
       "<td>3.3568970</td>\n",
       "<td>17.4950738</td></tr>\n",
       "<tr><td></td>\n",
       "<td>2019-02-10 13:38:34</td>\n",
       "<td> 0.569 sec</td>\n",
       "<td>4.0</td>\n",
       "<td>4.1231114</td>\n",
       "<td>3.3135136</td>\n",
       "<td>17.0000472</td>\n",
       "<td>4.1243835</td>\n",
       "<td>3.3105583</td>\n",
       "<td>17.0105391</td></tr>\n",
       "<tr><td>---</td>\n",
       "<td>---</td>\n",
       "<td>---</td>\n",
       "<td>---</td>\n",
       "<td>---</td>\n",
       "<td>---</td>\n",
       "<td>---</td>\n",
       "<td>---</td>\n",
       "<td>---</td>\n",
       "<td>---</td></tr>\n",
       "<tr><td></td>\n",
       "<td>2019-02-10 13:38:39</td>\n",
       "<td> 4.632 sec</td>\n",
       "<td>96.0</td>\n",
       "<td>3.3000945</td>\n",
       "<td>2.6402393</td>\n",
       "<td>10.8906239</td>\n",
       "<td>3.3363991</td>\n",
       "<td>2.6677566</td>\n",
       "<td>11.1315587</td></tr>\n",
       "<tr><td></td>\n",
       "<td>2019-02-10 13:38:39</td>\n",
       "<td> 4.670 sec</td>\n",
       "<td>97.0</td>\n",
       "<td>3.2989506</td>\n",
       "<td>2.6391444</td>\n",
       "<td>10.8830748</td>\n",
       "<td>3.3356345</td>\n",
       "<td>2.6670257</td>\n",
       "<td>11.1264576</td></tr>\n",
       "<tr><td></td>\n",
       "<td>2019-02-10 13:38:39</td>\n",
       "<td> 4.707 sec</td>\n",
       "<td>98.0</td>\n",
       "<td>3.2978330</td>\n",
       "<td>2.6380627</td>\n",
       "<td>10.8757026</td>\n",
       "<td>3.3348888</td>\n",
       "<td>2.6662941</td>\n",
       "<td>11.1214834</td></tr>\n",
       "<tr><td></td>\n",
       "<td>2019-02-10 13:38:39</td>\n",
       "<td> 4.746 sec</td>\n",
       "<td>99.0</td>\n",
       "<td>3.2969836</td>\n",
       "<td>2.6372012</td>\n",
       "<td>10.8701006</td>\n",
       "<td>3.3341996</td>\n",
       "<td>2.6656433</td>\n",
       "<td>11.1168873</td></tr>\n",
       "<tr><td></td>\n",
       "<td>2019-02-10 13:38:39</td>\n",
       "<td> 4.785 sec</td>\n",
       "<td>100.0</td>\n",
       "<td>3.2958462</td>\n",
       "<td>2.6360529</td>\n",
       "<td>10.8626020</td>\n",
       "<td>3.3335683</td>\n",
       "<td>2.6649262</td>\n",
       "<td>11.1126776</td></tr></table></div>"
      ],
      "text/plain": [
       "     timestamp            duration    number_of_trees    training_rmse       training_mae        training_deviance    validation_rmse     validation_mae      validation_deviance\n",
       "---  -------------------  ----------  -----------------  ------------------  ------------------  -------------------  ------------------  ------------------  ---------------------\n",
       "     2019-02-10 13:38:34  0.002 sec   0.0                4.392482568037287   3.5256477971972044  19.29390311051144    4.389699447227364   3.520577213276664   19.269461236988224\n",
       "     2019-02-10 13:38:34  0.210 sec   1.0                4.316440558963418   3.465934970376988   18.63165909906442    4.314684633970849   3.461458524212331   18.61650349062416\n",
       "     2019-02-10 13:38:34  0.349 sec   2.0                4.246596339535321   3.4111965054214792  18.033580470954785   4.2458401031198205  3.4072598115241433  18.02715818126053\n",
       "     2019-02-10 13:38:34  0.465 sec   3.0                4.182326920824655   3.3602461758644777  17.491858472654645   4.182711299143413   3.3568970256359942  17.495073811981978\n",
       "     2019-02-10 13:38:34  0.569 sec   4.0                4.123111352731912   3.313513573038112   17.000047227026773   4.124383481753826   3.310558277703231   17.010539104563815\n",
       "---  ---                  ---         ---                ---                 ---                 ---                  ---                 ---                 ---\n",
       "     2019-02-10 13:38:39  4.632 sec   96.0               3.3000945217581337  2.6402392662360037  10.890623852538045   3.3363990633554375  2.667756588957728   11.13155870995904\n",
       "     2019-02-10 13:38:39  4.670 sec   97.0               3.2989505586451635  2.63914444926799    10.883074788385237   3.3356345178065694  2.6670256947888578  11.126457636382666\n",
       "     2019-02-10 13:38:39  4.707 sec   98.0               3.2978330128221827  2.6380626518850656  10.875702580459834   3.3348888086965403  2.6662940994055946  11.121483366369429\n",
       "     2019-02-10 13:38:39  4.746 sec   99.0               3.2969835672114183  2.6372012101474116  10.870100642462129   3.3341996442724198  2.6656433018709462  11.116887267866332\n",
       "     2019-02-10 13:38:39  4.785 sec   100.0              3.2958461716924563  2.636052939136392   10.86260198745982    3.333568297845095   2.6649262049291167  11.112677596397843"
      ]
     },
     "metadata": {},
     "output_type": "display_data"
    },
    {
     "name": "stdout",
     "output_type": "stream",
     "text": [
      "\n",
      "See the whole table with table.as_data_frame()\n",
      "Variable Importances: \n"
     ]
    },
    {
     "data": {
      "text/html": [
       "<div style=\"overflow:auto\"><table style=\"width:50%\"><tr><td><b>variable</b></td>\n",
       "<td><b>relative_importance</b></td>\n",
       "<td><b>scaled_importance</b></td>\n",
       "<td><b>percentage</b></td></tr>\n",
       "<tr><td>term</td>\n",
       "<td>5188762.0</td>\n",
       "<td>1.0</td>\n",
       "<td>0.4571483</td></tr>\n",
       "<tr><td>revol_util</td>\n",
       "<td>3203326.2500000</td>\n",
       "<td>0.6173585</td>\n",
       "<td>0.2822244</td></tr>\n",
       "<tr><td>purpose</td>\n",
       "<td>598462.75</td>\n",
       "<td>0.1153383</td>\n",
       "<td>0.0527267</td></tr>\n",
       "<tr><td>delinq_2yrs</td>\n",
       "<td>492388.5</td>\n",
       "<td>0.0948952</td>\n",
       "<td>0.0433812</td></tr>\n",
       "<tr><td>loan_amnt</td>\n",
       "<td>416479.3750000</td>\n",
       "<td>0.0802657</td>\n",
       "<td>0.0366933</td></tr>\n",
       "<tr><td>longest_credit_length</td>\n",
       "<td>302441.2187500</td>\n",
       "<td>0.0582877</td>\n",
       "<td>0.0266461</td></tr>\n",
       "<tr><td>verification_status</td>\n",
       "<td>286500.5625000</td>\n",
       "<td>0.0552156</td>\n",
       "<td>0.0252417</td></tr>\n",
       "<tr><td>home_ownership</td>\n",
       "<td>249026.8281250</td>\n",
       "<td>0.0479935</td>\n",
       "<td>0.0219401</td></tr>\n",
       "<tr><td>dti</td>\n",
       "<td>190445.6875000</td>\n",
       "<td>0.0367035</td>\n",
       "<td>0.0167789</td></tr>\n",
       "<tr><td>annual_inc</td>\n",
       "<td>175388.9843750</td>\n",
       "<td>0.0338017</td>\n",
       "<td>0.0154524</td></tr>\n",
       "<tr><td>addr_state</td>\n",
       "<td>161074.0625000</td>\n",
       "<td>0.0310429</td>\n",
       "<td>0.0141912</td></tr>\n",
       "<tr><td>total_acc</td>\n",
       "<td>63704.8828125</td>\n",
       "<td>0.0122775</td>\n",
       "<td>0.0056126</td></tr>\n",
       "<tr><td>emp_length</td>\n",
       "<td>22279.9433594</td>\n",
       "<td>0.0042939</td>\n",
       "<td>0.0019629</td></tr></table></div>"
      ],
      "text/plain": [
       "variable               relative_importance    scaled_importance    percentage\n",
       "---------------------  ---------------------  -------------------  ------------\n",
       "term                   5.18876e+06            1                    0.457148\n",
       "revol_util             3.20333e+06            0.617358             0.282224\n",
       "purpose                598463                 0.115338             0.0527267\n",
       "delinq_2yrs            492388                 0.0948952            0.0433812\n",
       "loan_amnt              416479                 0.0802657            0.0366933\n",
       "longest_credit_length  302441                 0.0582877            0.0266461\n",
       "verification_status    286501                 0.0552156            0.0252417\n",
       "home_ownership         249027                 0.0479935            0.0219401\n",
       "dti                    190446                 0.0367035            0.0167789\n",
       "annual_inc             175389                 0.0338017            0.0154524\n",
       "addr_state             161074                 0.0310429            0.0141912\n",
       "total_acc              63704.9                0.0122775            0.00561263\n",
       "emp_length             22279.9                0.00429388           0.00196294"
      ]
     },
     "metadata": {},
     "output_type": "display_data"
    },
    {
     "name": "stdout",
     "output_type": "stream",
     "text": [
      "\n"
     ]
    }
   ],
   "source": [
    "from h2o.estimators.gbm import H2OGradientBoostingEstimator\n",
    "interest_rate_model = H2OGradientBoostingEstimator(score_each_iteration = True,\n",
    "                                     ntrees = 100,\n",
    "                                     max_depth = 5,\n",
    "                                     learn_rate = 0.05,\n",
    "                                     model_id = \"InterestRateModel\")\n",
    "interest_rate_model.train(x = myX, y = myY, training_frame = train, validation_frame = test)\n",
    "print(interest_rate_model)"
   ]
  },
  {
   "cell_type": "code",
   "execution_count": 12,
   "metadata": {},
   "outputs": [
    {
     "ename": "AttributeError",
     "evalue": "type object 'H2OGradientBoostingEstimator' has no attribute 'leaderboard'",
     "output_type": "error",
     "traceback": [
      "\u001b[0;31m---------------------------------------------------------------------------\u001b[0m",
      "\u001b[0;31mAttributeError\u001b[0m                            Traceback (most recent call last)",
      "\u001b[0;32m<ipython-input-12-03ea9e30d2a4>\u001b[0m in \u001b[0;36m<module>\u001b[0;34m\u001b[0m\n\u001b[1;32m      1\u001b[0m \u001b[0;31m# View the AutoML Leaderboard\u001b[0m\u001b[0;34m\u001b[0m\u001b[0;34m\u001b[0m\u001b[0;34m\u001b[0m\u001b[0m\n\u001b[0;32m----> 2\u001b[0;31m \u001b[0mlb\u001b[0m \u001b[0;34m=\u001b[0m \u001b[0minterest_rate_model\u001b[0m\u001b[0;34m.\u001b[0m\u001b[0mleaderboard\u001b[0m\u001b[0;34m\u001b[0m\u001b[0;34m\u001b[0m\u001b[0m\n\u001b[0m\u001b[1;32m      3\u001b[0m \u001b[0mlb\u001b[0m\u001b[0;34m.\u001b[0m\u001b[0mhead\u001b[0m\u001b[0;34m(\u001b[0m\u001b[0mrows\u001b[0m\u001b[0;34m=\u001b[0m\u001b[0mlb\u001b[0m\u001b[0;34m.\u001b[0m\u001b[0mnrows\u001b[0m\u001b[0;34m)\u001b[0m  \u001b[0;31m# Print all rows instead of default (10 rows)\u001b[0m\u001b[0;34m\u001b[0m\u001b[0;34m\u001b[0m\u001b[0m\n",
      "\u001b[0;32m~/anaconda3/lib/python3.7/site-packages/h2o/utils/backward_compatibility.py\u001b[0m in \u001b[0;36m__getattr__\u001b[0;34m(self, item)\u001b[0m\n\u001b[1;32m     72\u001b[0m             \u001b[0;32mreturn\u001b[0m \u001b[0mself\u001b[0m\u001b[0;34m.\u001b[0m\u001b[0m_bcin\u001b[0m\u001b[0;34m[\u001b[0m\u001b[0mitem\u001b[0m\u001b[0;34m]\u001b[0m\u001b[0;34m\u001b[0m\u001b[0;34m\u001b[0m\u001b[0m\n\u001b[1;32m     73\u001b[0m         \u001b[0;31m# Make sure that we look up any names not found on the instance also in the class\u001b[0m\u001b[0;34m\u001b[0m\u001b[0;34m\u001b[0m\u001b[0;34m\u001b[0m\u001b[0m\n\u001b[0;32m---> 74\u001b[0;31m         \u001b[0;32mreturn\u001b[0m \u001b[0mgetattr\u001b[0m\u001b[0;34m(\u001b[0m\u001b[0mself\u001b[0m\u001b[0;34m.\u001b[0m\u001b[0m__class__\u001b[0m\u001b[0;34m,\u001b[0m \u001b[0mitem\u001b[0m\u001b[0;34m)\u001b[0m\u001b[0;34m\u001b[0m\u001b[0;34m\u001b[0m\u001b[0m\n\u001b[0m\u001b[1;32m     75\u001b[0m \u001b[0;34m\u001b[0m\u001b[0m\n\u001b[1;32m     76\u001b[0m \u001b[0;34m\u001b[0m\u001b[0m\n",
      "\u001b[0;32m~/anaconda3/lib/python3.7/site-packages/h2o/utils/backward_compatibility.py\u001b[0m in \u001b[0;36m__getattribute__\u001b[0;34m(cls, name)\u001b[0m\n\u001b[1;32m     47\u001b[0m                 \u001b[0;31m# print(\"Warning: Method %s in class %s is deprecated.\" % (name, cls.__name__))\u001b[0m\u001b[0;34m\u001b[0m\u001b[0;34m\u001b[0m\u001b[0;34m\u001b[0m\u001b[0m\n\u001b[1;32m     48\u001b[0m                 \u001b[0;32mreturn\u001b[0m \u001b[0mbc\u001b[0m\u001b[0;34m[\u001b[0m\u001b[0;34m\"sm\"\u001b[0m\u001b[0;34m]\u001b[0m\u001b[0;34m[\u001b[0m\u001b[0mname\u001b[0m\u001b[0;34m]\u001b[0m\u001b[0;34m\u001b[0m\u001b[0;34m\u001b[0m\u001b[0m\n\u001b[0;32m---> 49\u001b[0;31m         \u001b[0;32mreturn\u001b[0m \u001b[0mtype\u001b[0m\u001b[0;34m.\u001b[0m\u001b[0m__getattribute__\u001b[0m\u001b[0;34m(\u001b[0m\u001b[0mcls\u001b[0m\u001b[0;34m,\u001b[0m \u001b[0mname\u001b[0m\u001b[0;34m)\u001b[0m\u001b[0;34m\u001b[0m\u001b[0;34m\u001b[0m\u001b[0m\n\u001b[0m\u001b[1;32m     50\u001b[0m \u001b[0;34m\u001b[0m\u001b[0m\n\u001b[1;32m     51\u001b[0m     \u001b[0;32mdef\u001b[0m \u001b[0m__setattr__\u001b[0m\u001b[0;34m(\u001b[0m\u001b[0mcls\u001b[0m\u001b[0;34m,\u001b[0m \u001b[0mname\u001b[0m\u001b[0;34m,\u001b[0m \u001b[0mvalue\u001b[0m\u001b[0;34m)\u001b[0m\u001b[0;34m:\u001b[0m\u001b[0;34m\u001b[0m\u001b[0;34m\u001b[0m\u001b[0m\n",
      "\u001b[0;31mAttributeError\u001b[0m: type object 'H2OGradientBoostingEstimator' has no attribute 'leaderboard'"
     ]
    }
   ],
   "source": [
    "# View the AutoML Leaderboard\n",
    "lb = interest_rate_model.leaderboard\n",
    "lb.head(rows=lb.nrows)  # Print all rows instead of default (10 rows)"
   ]
  },
  {
   "cell_type": "code",
   "execution_count": null,
   "metadata": {},
   "outputs": [],
   "source": [
    "# Download generated MOJO for model\n",
    "interest_rate_model_file=interest_rate_model.download_mojo( path=\"tmp\")\n"
   ]
  },
  {
   "cell_type": "code",
   "execution_count": null,
   "metadata": {},
   "outputs": [],
   "source": [
    "# Deploy the model\n",
    "shutil.copy(interest_rate_model_file, '../src/main/webapp/InterestRateModel.zip')"
   ]
  }
 ],
 "metadata": {
  "kernelspec": {
   "display_name": "Python 3",
   "language": "python",
   "name": "python3"
  },
  "language_info": {
   "codemirror_mode": {
    "name": "ipython",
    "version": 3
   },
   "file_extension": ".py",
   "mimetype": "text/x-python",
   "name": "python",
   "nbconvert_exporter": "python",
   "pygments_lexer": "ipython3",
   "version": "3.7.1"
  }
 },
 "nbformat": 4,
 "nbformat_minor": 2
}
